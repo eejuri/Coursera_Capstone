{
    "cells": [
        {
            "cell_type": "code",
            "execution_count": null,
            "metadata": {},
            "outputs": [],
            "source": ""
        },
        {
            "cell_type": "code",
            "execution_count": null,
            "metadata": {},
            "outputs": [],
            "source": "Introduction\n\nThe restaurant business is very important for the UK hospitality sector. According to Ignite Economics research, restaurants and related sub-sectors generate almost 50% of the UK hospitality sector's GVA (Gross Value Added), while London generates 23.1% of the total UK hospitality GVA (https://www.ukhospitality.org.uk/page/EconomicContributionoftheUKHospitalityIndustry2018). \n\nBut the business is facing strong headwinds, not least those related to the risk of a global recession, uncertainty about Brexit and the spread of coronavirus. According to UHY Hacker Young, the number of restaurant insolvencies has risen by 25% in 2018/19 (https://www.uhy-uk.com/news-events/news/restaurant-insolvencies-jump-25-in-the-last-year-alone). Therefore, it is very important for a starting entrepreneur to pick a right location and relatively quickly establish a permanent client base.\n\nMy client is looking to open a restaurant in Finchley, a thriving area in North London where I live. Despite the fact that white people constituted over 60% of the area's population in 2011 (Census data), there does not seem to be many restaurants with European cuisine. My task is to recommend a place for such a restaurant. Target audience: Finchley people and guests who will enjoy high-quality European food for reasonable prices.\n\nData\n\nMy initial dataframe consisted of four columns:\n1)Neighbourhood - East Finchley, Finchley Central, West Finchley, North Finchley and Woodside Park.\n2)Borough - Barnet (the same for all neighbourhoods).\n3)Latitude.\n4)Longitude. As the Geocoder package has failed to install multiple times, for each neighbourhood I am planning to use latitude and longitude data from Wiki OpenStreetMap and Wikipedia. \n\nMethodology\n\nFirst, I created a Folium map with all Finchley neighbourhoods: use Foursquare APIs to obtain venues in each neighbourhood and Folium maps for visualisation. \n\nThen I used the explore function to get 100 venues in the first neighbourhood in my dataframe - East Finchley - within a radius of 1000 meters. I defined the get_category_type function that extracted a venue's category, cleaned the json file and structured it into a following pandas dataframe:\n\nI defined the getNearbyVenues function to repeat the same process for all the neighborhoods. The resulting dataframe consisted of 219 venues, the minimum was 40 in North Finchley and maximum 48 in Woodside Park:\n\nThere were 62 unique categories returned from curated venues.\n\nI performed one-hot encoding and grouped rows by neighbourhood and by taking the mean of the frequency of occurrence of each category. I wrote a function to sort the venues in descending order and created a new dataframe:\n\nI ran k-means to cluster the neighbourhoods into three clusters, created a new dataframe that included the clusters as well as the top 10 venues for each neighborhood and visualised the resulting clusters with the discriminating venue categories that distinguished them:\nCluster 0 - East Finchley (green).\nCluster 1 - Finchley Central and West Finchley (purple).\nCluster 2 - North Finchley and Woodside Park (red).\n\nResults\n\nThe results of cluster analysis show that coffee shops and cafes dominate in the northern part of Finchley (North Finchley and Woodside Park), whereas Indian restaurants are quite popular in Finchley Central and West Finchley and pubs - in East Finchley. Only two types of European restaurants (Italian and Portuguese) are present among the top 10 most common venues (Italian - 5th and 6th in West Finchley and East Finchley, respectively and Portuguese - 7th in North Finchley). \n\nDiscussion\n\nThe results confirm my initial assumption about the scarcity of European restaurants in Finchley in general, especially in the Finchley Central area. Therefore, I would recommend to open such a restaurant in Finchley Central.\n\nConclusion\n\nThe above analysis can be useful for any entrepreneur looking to open a restaurant in Finchley to capitalise on the lack of restaurants with European cuisine. The model can also be used to identify potential market niches in other areas/boroughs of London."
        },
        {
            "cell_type": "code",
            "execution_count": null,
            "metadata": {},
            "outputs": [],
            "source": ""
        },
        {
            "cell_type": "code",
            "execution_count": null,
            "metadata": {
                "collapsed": true
            },
            "outputs": [],
            "source": ""
        }
    ],
    "metadata": {
        "kernelspec": {
            "display_name": "Python 3.6",
            "language": "python",
            "name": "python3"
        },
        "language_info": {
            "codemirror_mode": {
                "name": "ipython",
                "version": 3
            },
            "file_extension": ".py",
            "mimetype": "text/x-python",
            "name": "python",
            "nbconvert_exporter": "python",
            "pygments_lexer": "ipython3",
            "version": "3.6.9"
        }
    },
    "nbformat": 4,
    "nbformat_minor": 1
}